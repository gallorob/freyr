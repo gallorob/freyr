{
 "cells": [
  {
   "metadata": {},
   "cell_type": "code",
   "source": [
    "import pandas as pd\n",
    "\n",
    "df = pd.read_csv('./experiments/full_comparable_results.csv')\n",
    "# df = pd.read_csv('./experiments/full_freyr_results.csv')"
   ],
   "id": "3569240168ffe642",
   "outputs": [],
   "execution_count": null
  },
  {
   "metadata": {},
   "cell_type": "code",
   "source": "df.columns",
   "id": "3390e960b5d2421d",
   "outputs": [],
   "execution_count": null
  },
  {
   "metadata": {},
   "cell_type": "code",
   "source": "n_examples = 10",
   "id": "3d268c48a3fe6ae8",
   "outputs": [],
   "execution_count": null
  },
  {
   "metadata": {},
   "cell_type": "code",
   "source": [
    "import numpy as np\n",
    "\n",
    "c = 0\n",
    "while c < n_examples:\n",
    "\tintent_llm = np.random.choice(df['intent_llm'].unique())\n",
    "\ttcase = np.random.choice(df['test_case'].unique())\n",
    "\trun_n = np.random.choice(df['run_n'].unique())\n",
    "\tstep = np.random.choice(df.loc[df['test_case'] == tcase]['step'].unique())\n",
    "\n",
    "\trow_a = df.loc[(df['intent_llm'] == intent_llm) & (df['test_case'] == tcase) & (df['run_n'] == run_n) & (df['step'] == step) &\n",
    "\t               (df['mode'] == 'freyr') & df['bootstrap'] == True]\n",
    "\trow_b = df.loc[(df['intent_llm'] == intent_llm) & (df['test_case'] == tcase) & (df['run_n'] == run_n) & (df['step'] == step) &\n",
    "\t               (df['mode'] == 'tool') & df['bootstrap'] == True]\n",
    "\tif row_a['valid_design'].values[0] and row_b['valid_design'].values[0]:\n",
    "\t\tprint(f'\\n\\n### Example {c + 1} of {n_examples} ###')\n",
    "\t\tprint(f'\\tintent_llm: {intent_llm}; tcase: {tcase}; run_n: {run_n}; step: {step}')\n",
    "\t\tprint(row_a['query'].values[0])\n",
    "\t\tprint(f'FREYR: {row_a[\"level\"].values[0]}')\n",
    "\t\tprint(f'Tools: {row_b[\"level\"].values[0]}')\n",
    "\t\tc += 1\n"
   ],
   "id": "5fd52468e413ed1c",
   "outputs": [],
   "execution_count": null
  },
  {
   "metadata": {},
   "cell_type": "code",
   "source": "",
   "id": "e84cafcc56e2817b",
   "outputs": [],
   "execution_count": null
  }
 ],
 "metadata": {
  "kernelspec": {
   "display_name": "Python 3",
   "language": "python",
   "name": "python3"
  },
  "language_info": {
   "codemirror_mode": {
    "name": "ipython",
    "version": 2
   },
   "file_extension": ".py",
   "mimetype": "text/x-python",
   "name": "python",
   "nbconvert_exporter": "python",
   "pygments_lexer": "ipython2",
   "version": "2.7.6"
  }
 },
 "nbformat": 4,
 "nbformat_minor": 5
}
